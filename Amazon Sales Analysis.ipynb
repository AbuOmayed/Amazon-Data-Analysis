{
 "cells": [
  {
   "cell_type": "markdown",
   "id": "69eb7eb7-c310-40fe-8847-fe4e0d434f0e",
   "metadata": {},
   "source": [
    "Medium : https://medium.com/@dewisafitri_/amazon-sale-report-portofolio-c68ef02eaccd<br>\n",
    "Youtube : https://www.youtube.com/watch?v=1TmrFEHTg54"
   ]
  },
  {
   "cell_type": "code",
   "execution_count": 2,
   "id": "6571304d-532a-405d-8744-0eee06f8a06d",
   "metadata": {},
   "outputs": [],
   "source": [
    "import pandas as pd\n",
    "import numpy as np\n",
    "import matplotlib.pyplot as plt\n",
    "%matplotlib inline\n",
    "import seaborn as sns"
   ]
  },
  {
   "cell_type": "code",
   "execution_count": 3,
   "id": "0b2d84f9-ab99-40a5-bf38-5e605959d1bd",
   "metadata": {},
   "outputs": [],
   "source": [
    "amazon = pd.read_csv(\"/home/omayed/my-jupyter-env/datasets/Python_Amazon_Sales_Analysis-main/Amazon Sale Report.csv\",\\\n",
    "                     dtype = {\"Size\": \"category\"})"
   ]
  },
  {
   "cell_type": "code",
   "execution_count": 4,
   "id": "268d382d-6134-46cc-a373-fa0960bef79f",
   "metadata": {},
   "outputs": [
    {
     "data": {
      "text/html": [
       "<div>\n",
       "<style scoped>\n",
       "    .dataframe tbody tr th:only-of-type {\n",
       "        vertical-align: middle;\n",
       "    }\n",
       "\n",
       "    .dataframe tbody tr th {\n",
       "        vertical-align: top;\n",
       "    }\n",
       "\n",
       "    .dataframe thead th {\n",
       "        text-align: right;\n",
       "    }\n",
       "</style>\n",
       "<table border=\"1\" class=\"dataframe\">\n",
       "  <thead>\n",
       "    <tr style=\"text-align: right;\">\n",
       "      <th></th>\n",
       "      <th>index</th>\n",
       "      <th>Order ID</th>\n",
       "      <th>Date</th>\n",
       "      <th>Status</th>\n",
       "      <th>Fulfilment</th>\n",
       "      <th>Sales Channel</th>\n",
       "      <th>ship-service-level</th>\n",
       "      <th>Category</th>\n",
       "      <th>Size</th>\n",
       "      <th>Courier Status</th>\n",
       "      <th>...</th>\n",
       "      <th>currency</th>\n",
       "      <th>Amount</th>\n",
       "      <th>ship-city</th>\n",
       "      <th>ship-state</th>\n",
       "      <th>ship-postal-code</th>\n",
       "      <th>ship-country</th>\n",
       "      <th>B2B</th>\n",
       "      <th>fulfilled-by</th>\n",
       "      <th>New</th>\n",
       "      <th>PendingS</th>\n",
       "    </tr>\n",
       "  </thead>\n",
       "  <tbody>\n",
       "    <tr>\n",
       "      <th>0</th>\n",
       "      <td>0</td>\n",
       "      <td>405-8078784-5731545</td>\n",
       "      <td>04-30-22</td>\n",
       "      <td>Cancelled</td>\n",
       "      <td>Merchant</td>\n",
       "      <td>Amazon.in</td>\n",
       "      <td>Standard</td>\n",
       "      <td>T-shirt</td>\n",
       "      <td>S</td>\n",
       "      <td>On the Way</td>\n",
       "      <td>...</td>\n",
       "      <td>INR</td>\n",
       "      <td>647.62</td>\n",
       "      <td>MUMBAI</td>\n",
       "      <td>MAHARASHTRA</td>\n",
       "      <td>400081.0</td>\n",
       "      <td>IN</td>\n",
       "      <td>False</td>\n",
       "      <td>Easy Ship</td>\n",
       "      <td>NaN</td>\n",
       "      <td>NaN</td>\n",
       "    </tr>\n",
       "    <tr>\n",
       "      <th>1</th>\n",
       "      <td>1</td>\n",
       "      <td>171-9198151-1101146</td>\n",
       "      <td>04-30-22</td>\n",
       "      <td>Shipped - Delivered to Buyer</td>\n",
       "      <td>Merchant</td>\n",
       "      <td>Amazon.in</td>\n",
       "      <td>Standard</td>\n",
       "      <td>Shirt</td>\n",
       "      <td>3XL</td>\n",
       "      <td>Shipped</td>\n",
       "      <td>...</td>\n",
       "      <td>INR</td>\n",
       "      <td>406.00</td>\n",
       "      <td>BENGALURU</td>\n",
       "      <td>KARNATAKA</td>\n",
       "      <td>560085.0</td>\n",
       "      <td>IN</td>\n",
       "      <td>False</td>\n",
       "      <td>Easy Ship</td>\n",
       "      <td>NaN</td>\n",
       "      <td>NaN</td>\n",
       "    </tr>\n",
       "    <tr>\n",
       "      <th>2</th>\n",
       "      <td>2</td>\n",
       "      <td>404-0687676-7273146</td>\n",
       "      <td>04-30-22</td>\n",
       "      <td>Shipped</td>\n",
       "      <td>Amazon</td>\n",
       "      <td>Amazon.in</td>\n",
       "      <td>Expedited</td>\n",
       "      <td>Shirt</td>\n",
       "      <td>XL</td>\n",
       "      <td>Shipped</td>\n",
       "      <td>...</td>\n",
       "      <td>INR</td>\n",
       "      <td>329.00</td>\n",
       "      <td>NAVI MUMBAI</td>\n",
       "      <td>MAHARASHTRA</td>\n",
       "      <td>410210.0</td>\n",
       "      <td>IN</td>\n",
       "      <td>True</td>\n",
       "      <td>NaN</td>\n",
       "      <td>NaN</td>\n",
       "      <td>NaN</td>\n",
       "    </tr>\n",
       "    <tr>\n",
       "      <th>3</th>\n",
       "      <td>3</td>\n",
       "      <td>403-9615377-8133951</td>\n",
       "      <td>04-30-22</td>\n",
       "      <td>Cancelled</td>\n",
       "      <td>Merchant</td>\n",
       "      <td>Amazon.in</td>\n",
       "      <td>Standard</td>\n",
       "      <td>Blazzer</td>\n",
       "      <td>L</td>\n",
       "      <td>On the Way</td>\n",
       "      <td>...</td>\n",
       "      <td>INR</td>\n",
       "      <td>753.33</td>\n",
       "      <td>PUDUCHERRY</td>\n",
       "      <td>PUDUCHERRY</td>\n",
       "      <td>605008.0</td>\n",
       "      <td>IN</td>\n",
       "      <td>False</td>\n",
       "      <td>Easy Ship</td>\n",
       "      <td>NaN</td>\n",
       "      <td>NaN</td>\n",
       "    </tr>\n",
       "    <tr>\n",
       "      <th>4</th>\n",
       "      <td>4</td>\n",
       "      <td>407-1069790-7240320</td>\n",
       "      <td>04-30-22</td>\n",
       "      <td>Shipped</td>\n",
       "      <td>Amazon</td>\n",
       "      <td>Amazon.in</td>\n",
       "      <td>Expedited</td>\n",
       "      <td>Trousers</td>\n",
       "      <td>3XL</td>\n",
       "      <td>Shipped</td>\n",
       "      <td>...</td>\n",
       "      <td>INR</td>\n",
       "      <td>574.00</td>\n",
       "      <td>CHENNAI</td>\n",
       "      <td>TAMIL NADU</td>\n",
       "      <td>600073.0</td>\n",
       "      <td>IN</td>\n",
       "      <td>False</td>\n",
       "      <td>NaN</td>\n",
       "      <td>NaN</td>\n",
       "      <td>NaN</td>\n",
       "    </tr>\n",
       "  </tbody>\n",
       "</table>\n",
       "<p>5 rows × 21 columns</p>\n",
       "</div>"
      ],
      "text/plain": [
       "   index             Order ID      Date                        Status  \\\n",
       "0      0  405-8078784-5731545  04-30-22                     Cancelled   \n",
       "1      1  171-9198151-1101146  04-30-22  Shipped - Delivered to Buyer   \n",
       "2      2  404-0687676-7273146  04-30-22                       Shipped   \n",
       "3      3  403-9615377-8133951  04-30-22                     Cancelled   \n",
       "4      4  407-1069790-7240320  04-30-22                       Shipped   \n",
       "\n",
       "  Fulfilment Sales Channel ship-service-level  Category Size Courier Status  \\\n",
       "0   Merchant     Amazon.in           Standard   T-shirt    S     On the Way   \n",
       "1   Merchant     Amazon.in           Standard     Shirt  3XL        Shipped   \n",
       "2     Amazon     Amazon.in          Expedited     Shirt   XL        Shipped   \n",
       "3   Merchant     Amazon.in           Standard   Blazzer    L     On the Way   \n",
       "4     Amazon     Amazon.in          Expedited  Trousers  3XL        Shipped   \n",
       "\n",
       "   ...  currency  Amount    ship-city   ship-state ship-postal-code  \\\n",
       "0  ...       INR  647.62       MUMBAI  MAHARASHTRA         400081.0   \n",
       "1  ...       INR  406.00    BENGALURU    KARNATAKA         560085.0   \n",
       "2  ...       INR  329.00  NAVI MUMBAI  MAHARASHTRA         410210.0   \n",
       "3  ...       INR  753.33   PUDUCHERRY   PUDUCHERRY         605008.0   \n",
       "4  ...       INR  574.00      CHENNAI   TAMIL NADU         600073.0   \n",
       "\n",
       "   ship-country    B2B  fulfilled-by New  PendingS  \n",
       "0            IN  False     Easy Ship NaN       NaN  \n",
       "1            IN  False     Easy Ship NaN       NaN  \n",
       "2            IN   True           NaN NaN       NaN  \n",
       "3            IN  False     Easy Ship NaN       NaN  \n",
       "4            IN  False           NaN NaN       NaN  \n",
       "\n",
       "[5 rows x 21 columns]"
      ]
     },
     "execution_count": 4,
     "metadata": {},
     "output_type": "execute_result"
    }
   ],
   "source": [
    "amazon.head(5)"
   ]
  },
  {
   "cell_type": "code",
   "execution_count": 5,
   "id": "a22247c1-ea0d-4fe5-bb41-6bfc8d76b2f5",
   "metadata": {},
   "outputs": [
    {
     "data": {
      "text/html": [
       "<div>\n",
       "<style scoped>\n",
       "    .dataframe tbody tr th:only-of-type {\n",
       "        vertical-align: middle;\n",
       "    }\n",
       "\n",
       "    .dataframe tbody tr th {\n",
       "        vertical-align: top;\n",
       "    }\n",
       "\n",
       "    .dataframe thead th {\n",
       "        text-align: right;\n",
       "    }\n",
       "</style>\n",
       "<table border=\"1\" class=\"dataframe\">\n",
       "  <thead>\n",
       "    <tr style=\"text-align: right;\">\n",
       "      <th></th>\n",
       "      <th>index</th>\n",
       "      <th>Order ID</th>\n",
       "      <th>Date</th>\n",
       "      <th>Status</th>\n",
       "      <th>Fulfilment</th>\n",
       "      <th>Sales Channel</th>\n",
       "      <th>ship-service-level</th>\n",
       "      <th>Category</th>\n",
       "      <th>Size</th>\n",
       "      <th>Courier Status</th>\n",
       "      <th>...</th>\n",
       "      <th>currency</th>\n",
       "      <th>Amount</th>\n",
       "      <th>ship-city</th>\n",
       "      <th>ship-state</th>\n",
       "      <th>ship-postal-code</th>\n",
       "      <th>ship-country</th>\n",
       "      <th>B2B</th>\n",
       "      <th>fulfilled-by</th>\n",
       "      <th>New</th>\n",
       "      <th>PendingS</th>\n",
       "    </tr>\n",
       "  </thead>\n",
       "  <tbody>\n",
       "    <tr>\n",
       "      <th>128973</th>\n",
       "      <td>128972</td>\n",
       "      <td>407-9547469-3152358</td>\n",
       "      <td>05-31-22</td>\n",
       "      <td>Shipped</td>\n",
       "      <td>Amazon</td>\n",
       "      <td>Amazon.in</td>\n",
       "      <td>Expedited</td>\n",
       "      <td>Blazzer</td>\n",
       "      <td>XXL</td>\n",
       "      <td>Shipped</td>\n",
       "      <td>...</td>\n",
       "      <td>INR</td>\n",
       "      <td>690.0</td>\n",
       "      <td>HYDERABAD</td>\n",
       "      <td>TELANGANA</td>\n",
       "      <td>500049.0</td>\n",
       "      <td>IN</td>\n",
       "      <td>False</td>\n",
       "      <td>NaN</td>\n",
       "      <td>NaN</td>\n",
       "      <td>NaN</td>\n",
       "    </tr>\n",
       "    <tr>\n",
       "      <th>128974</th>\n",
       "      <td>128973</td>\n",
       "      <td>402-6184140-0545956</td>\n",
       "      <td>05-31-22</td>\n",
       "      <td>Shipped</td>\n",
       "      <td>Amazon</td>\n",
       "      <td>Amazon.in</td>\n",
       "      <td>Expedited</td>\n",
       "      <td>T-shirt</td>\n",
       "      <td>XS</td>\n",
       "      <td>Shipped</td>\n",
       "      <td>...</td>\n",
       "      <td>INR</td>\n",
       "      <td>1199.0</td>\n",
       "      <td>Halol</td>\n",
       "      <td>Gujarat</td>\n",
       "      <td>389350.0</td>\n",
       "      <td>IN</td>\n",
       "      <td>False</td>\n",
       "      <td>NaN</td>\n",
       "      <td>NaN</td>\n",
       "      <td>NaN</td>\n",
       "    </tr>\n",
       "    <tr>\n",
       "      <th>128975</th>\n",
       "      <td>128974</td>\n",
       "      <td>408-7436540-8728312</td>\n",
       "      <td>05-31-22</td>\n",
       "      <td>Shipped</td>\n",
       "      <td>Amazon</td>\n",
       "      <td>Amazon.in</td>\n",
       "      <td>Expedited</td>\n",
       "      <td>T-shirt</td>\n",
       "      <td>S</td>\n",
       "      <td>Shipped</td>\n",
       "      <td>...</td>\n",
       "      <td>INR</td>\n",
       "      <td>696.0</td>\n",
       "      <td>Raipur</td>\n",
       "      <td>CHHATTISGARH</td>\n",
       "      <td>492014.0</td>\n",
       "      <td>IN</td>\n",
       "      <td>False</td>\n",
       "      <td>NaN</td>\n",
       "      <td>NaN</td>\n",
       "      <td>NaN</td>\n",
       "    </tr>\n",
       "  </tbody>\n",
       "</table>\n",
       "<p>3 rows × 21 columns</p>\n",
       "</div>"
      ],
      "text/plain": [
       "         index             Order ID      Date   Status Fulfilment  \\\n",
       "128973  128972  407-9547469-3152358  05-31-22  Shipped     Amazon   \n",
       "128974  128973  402-6184140-0545956  05-31-22  Shipped     Amazon   \n",
       "128975  128974  408-7436540-8728312  05-31-22  Shipped     Amazon   \n",
       "\n",
       "       Sales Channel ship-service-level Category Size Courier Status  ...  \\\n",
       "128973     Amazon.in          Expedited  Blazzer  XXL        Shipped  ...   \n",
       "128974     Amazon.in          Expedited  T-shirt   XS        Shipped  ...   \n",
       "128975     Amazon.in          Expedited  T-shirt    S        Shipped  ...   \n",
       "\n",
       "        currency  Amount  ship-city    ship-state ship-postal-code  \\\n",
       "128973       INR   690.0  HYDERABAD     TELANGANA         500049.0   \n",
       "128974       INR  1199.0      Halol       Gujarat         389350.0   \n",
       "128975       INR   696.0     Raipur  CHHATTISGARH         492014.0   \n",
       "\n",
       "        ship-country    B2B  fulfilled-by New  PendingS  \n",
       "128973            IN  False           NaN NaN       NaN  \n",
       "128974            IN  False           NaN NaN       NaN  \n",
       "128975            IN  False           NaN NaN       NaN  \n",
       "\n",
       "[3 rows x 21 columns]"
      ]
     },
     "execution_count": 5,
     "metadata": {},
     "output_type": "execute_result"
    }
   ],
   "source": [
    "amazon.tail(3)"
   ]
  },
  {
   "cell_type": "code",
   "execution_count": 6,
   "id": "cee5debd-4027-4bf9-98a8-003a5f72aaca",
   "metadata": {},
   "outputs": [
    {
     "data": {
      "text/html": [
       "<div>\n",
       "<style scoped>\n",
       "    .dataframe tbody tr th:only-of-type {\n",
       "        vertical-align: middle;\n",
       "    }\n",
       "\n",
       "    .dataframe tbody tr th {\n",
       "        vertical-align: top;\n",
       "    }\n",
       "\n",
       "    .dataframe thead th {\n",
       "        text-align: right;\n",
       "    }\n",
       "</style>\n",
       "<table border=\"1\" class=\"dataframe\">\n",
       "  <thead>\n",
       "    <tr style=\"text-align: right;\">\n",
       "      <th></th>\n",
       "      <th>index</th>\n",
       "      <th>Order ID</th>\n",
       "      <th>Date</th>\n",
       "      <th>Status</th>\n",
       "      <th>Fulfilment</th>\n",
       "      <th>Sales Channel</th>\n",
       "      <th>ship-service-level</th>\n",
       "      <th>Category</th>\n",
       "      <th>Size</th>\n",
       "      <th>Courier Status</th>\n",
       "      <th>...</th>\n",
       "      <th>currency</th>\n",
       "      <th>Amount</th>\n",
       "      <th>ship-city</th>\n",
       "      <th>ship-state</th>\n",
       "      <th>ship-postal-code</th>\n",
       "      <th>ship-country</th>\n",
       "      <th>B2B</th>\n",
       "      <th>fulfilled-by</th>\n",
       "      <th>New</th>\n",
       "      <th>PendingS</th>\n",
       "    </tr>\n",
       "  </thead>\n",
       "  <tbody>\n",
       "    <tr>\n",
       "      <th>64944</th>\n",
       "      <td>64943</td>\n",
       "      <td>402-3837144-4675539</td>\n",
       "      <td>05-19-22</td>\n",
       "      <td>Shipped</td>\n",
       "      <td>Amazon</td>\n",
       "      <td>Amazon.in</td>\n",
       "      <td>Expedited</td>\n",
       "      <td>T-shirt</td>\n",
       "      <td>3XL</td>\n",
       "      <td>Shipped</td>\n",
       "      <td>...</td>\n",
       "      <td>INR</td>\n",
       "      <td>791.0</td>\n",
       "      <td>HYDERABAD</td>\n",
       "      <td>TELANGANA</td>\n",
       "      <td>500046.0</td>\n",
       "      <td>IN</td>\n",
       "      <td>False</td>\n",
       "      <td>NaN</td>\n",
       "      <td>NaN</td>\n",
       "      <td>NaN</td>\n",
       "    </tr>\n",
       "    <tr>\n",
       "      <th>84361</th>\n",
       "      <td>84360</td>\n",
       "      <td>406-4746541-4152365</td>\n",
       "      <td>05-04-2022</td>\n",
       "      <td>Shipped</td>\n",
       "      <td>Amazon</td>\n",
       "      <td>Amazon.in</td>\n",
       "      <td>Expedited</td>\n",
       "      <td>Shirt</td>\n",
       "      <td>S</td>\n",
       "      <td>Shipped</td>\n",
       "      <td>...</td>\n",
       "      <td>INR</td>\n",
       "      <td>442.0</td>\n",
       "      <td>PUNE</td>\n",
       "      <td>MAHARASHTRA</td>\n",
       "      <td>411057.0</td>\n",
       "      <td>IN</td>\n",
       "      <td>False</td>\n",
       "      <td>NaN</td>\n",
       "      <td>NaN</td>\n",
       "      <td>NaN</td>\n",
       "    </tr>\n",
       "    <tr>\n",
       "      <th>30750</th>\n",
       "      <td>30749</td>\n",
       "      <td>403-1741469-2980324</td>\n",
       "      <td>04-12-2022</td>\n",
       "      <td>Shipped</td>\n",
       "      <td>Amazon</td>\n",
       "      <td>Amazon.in</td>\n",
       "      <td>Expedited</td>\n",
       "      <td>Shirt</td>\n",
       "      <td>XS</td>\n",
       "      <td>Shipped</td>\n",
       "      <td>...</td>\n",
       "      <td>INR</td>\n",
       "      <td>329.0</td>\n",
       "      <td>BENGALURU</td>\n",
       "      <td>KARNATAKA</td>\n",
       "      <td>560036.0</td>\n",
       "      <td>IN</td>\n",
       "      <td>False</td>\n",
       "      <td>NaN</td>\n",
       "      <td>NaN</td>\n",
       "      <td>NaN</td>\n",
       "    </tr>\n",
       "    <tr>\n",
       "      <th>55983</th>\n",
       "      <td>55982</td>\n",
       "      <td>408-6874319-8893136</td>\n",
       "      <td>05-26-22</td>\n",
       "      <td>Shipped</td>\n",
       "      <td>Amazon</td>\n",
       "      <td>Amazon.in</td>\n",
       "      <td>Expedited</td>\n",
       "      <td>Shirt</td>\n",
       "      <td>XL</td>\n",
       "      <td>Shipped</td>\n",
       "      <td>...</td>\n",
       "      <td>INR</td>\n",
       "      <td>382.0</td>\n",
       "      <td>Ghaziabad</td>\n",
       "      <td>UTTAR PRADESH</td>\n",
       "      <td>201001.0</td>\n",
       "      <td>IN</td>\n",
       "      <td>False</td>\n",
       "      <td>NaN</td>\n",
       "      <td>NaN</td>\n",
       "      <td>NaN</td>\n",
       "    </tr>\n",
       "    <tr>\n",
       "      <th>3825</th>\n",
       "      <td>3824</td>\n",
       "      <td>171-0159362-0680311</td>\n",
       "      <td>04-28-22</td>\n",
       "      <td>Shipped - Delivered to Buyer</td>\n",
       "      <td>Merchant</td>\n",
       "      <td>Amazon.in</td>\n",
       "      <td>Standard</td>\n",
       "      <td>T-shirt</td>\n",
       "      <td>L</td>\n",
       "      <td>Shipped</td>\n",
       "      <td>...</td>\n",
       "      <td>INR</td>\n",
       "      <td>631.0</td>\n",
       "      <td>AKBARPUR</td>\n",
       "      <td>UTTAR PRADESH</td>\n",
       "      <td>224122.0</td>\n",
       "      <td>IN</td>\n",
       "      <td>False</td>\n",
       "      <td>Easy Ship</td>\n",
       "      <td>NaN</td>\n",
       "      <td>NaN</td>\n",
       "    </tr>\n",
       "    <tr>\n",
       "      <th>18671</th>\n",
       "      <td>18670</td>\n",
       "      <td>S02-8550082-4367039</td>\n",
       "      <td>04-19-22</td>\n",
       "      <td>Shipped</td>\n",
       "      <td>Amazon</td>\n",
       "      <td>Non-Amazon</td>\n",
       "      <td>Standard</td>\n",
       "      <td>T-shirt</td>\n",
       "      <td>XL</td>\n",
       "      <td>Unshipped</td>\n",
       "      <td>...</td>\n",
       "      <td>NaN</td>\n",
       "      <td>NaN</td>\n",
       "      <td>Surat</td>\n",
       "      <td>Gujarat</td>\n",
       "      <td>394210.0</td>\n",
       "      <td>IN</td>\n",
       "      <td>False</td>\n",
       "      <td>NaN</td>\n",
       "      <td>NaN</td>\n",
       "      <td>NaN</td>\n",
       "    </tr>\n",
       "    <tr>\n",
       "      <th>27803</th>\n",
       "      <td>27802</td>\n",
       "      <td>403-7859148-1162729</td>\n",
       "      <td>04-14-22</td>\n",
       "      <td>Shipped - Delivered to Buyer</td>\n",
       "      <td>Merchant</td>\n",
       "      <td>Amazon.in</td>\n",
       "      <td>Standard</td>\n",
       "      <td>T-shirt</td>\n",
       "      <td>S</td>\n",
       "      <td>Shipped</td>\n",
       "      <td>...</td>\n",
       "      <td>INR</td>\n",
       "      <td>1338.0</td>\n",
       "      <td>BENGALURU</td>\n",
       "      <td>KARNATAKA</td>\n",
       "      <td>560084.0</td>\n",
       "      <td>IN</td>\n",
       "      <td>False</td>\n",
       "      <td>Easy Ship</td>\n",
       "      <td>NaN</td>\n",
       "      <td>NaN</td>\n",
       "    </tr>\n",
       "    <tr>\n",
       "      <th>1692</th>\n",
       "      <td>1691</td>\n",
       "      <td>403-8924591-8659559</td>\n",
       "      <td>04-29-22</td>\n",
       "      <td>Shipped</td>\n",
       "      <td>Amazon</td>\n",
       "      <td>Amazon.in</td>\n",
       "      <td>Expedited</td>\n",
       "      <td>T-shirt</td>\n",
       "      <td>3XL</td>\n",
       "      <td>Shipped</td>\n",
       "      <td>...</td>\n",
       "      <td>INR</td>\n",
       "      <td>545.0</td>\n",
       "      <td>ISAGARH</td>\n",
       "      <td>MADHYA PRADESH</td>\n",
       "      <td>473335.0</td>\n",
       "      <td>IN</td>\n",
       "      <td>False</td>\n",
       "      <td>NaN</td>\n",
       "      <td>NaN</td>\n",
       "      <td>NaN</td>\n",
       "    </tr>\n",
       "    <tr>\n",
       "      <th>105069</th>\n",
       "      <td>105068</td>\n",
       "      <td>404-3764252-5755558</td>\n",
       "      <td>06-17-22</td>\n",
       "      <td>Shipped</td>\n",
       "      <td>Amazon</td>\n",
       "      <td>Amazon.in</td>\n",
       "      <td>Expedited</td>\n",
       "      <td>T-shirt</td>\n",
       "      <td>M</td>\n",
       "      <td>Shipped</td>\n",
       "      <td>...</td>\n",
       "      <td>INR</td>\n",
       "      <td>636.0</td>\n",
       "      <td>Chennai</td>\n",
       "      <td>TAMIL NADU</td>\n",
       "      <td>603103.0</td>\n",
       "      <td>IN</td>\n",
       "      <td>False</td>\n",
       "      <td>NaN</td>\n",
       "      <td>NaN</td>\n",
       "      <td>NaN</td>\n",
       "    </tr>\n",
       "    <tr>\n",
       "      <th>75761</th>\n",
       "      <td>75760</td>\n",
       "      <td>402-9141667-1791537</td>\n",
       "      <td>05-10-2022</td>\n",
       "      <td>Cancelled</td>\n",
       "      <td>Amazon</td>\n",
       "      <td>Amazon.in</td>\n",
       "      <td>Expedited</td>\n",
       "      <td>T-shirt</td>\n",
       "      <td>XXL</td>\n",
       "      <td>Unshipped</td>\n",
       "      <td>...</td>\n",
       "      <td>INR</td>\n",
       "      <td>2676.0</td>\n",
       "      <td>CHENNAI</td>\n",
       "      <td>TAMIL NADU</td>\n",
       "      <td>600053.0</td>\n",
       "      <td>IN</td>\n",
       "      <td>False</td>\n",
       "      <td>NaN</td>\n",
       "      <td>NaN</td>\n",
       "      <td>NaN</td>\n",
       "    </tr>\n",
       "  </tbody>\n",
       "</table>\n",
       "<p>10 rows × 21 columns</p>\n",
       "</div>"
      ],
      "text/plain": [
       "         index             Order ID        Date                        Status  \\\n",
       "64944    64943  402-3837144-4675539    05-19-22                       Shipped   \n",
       "84361    84360  406-4746541-4152365  05-04-2022                       Shipped   \n",
       "30750    30749  403-1741469-2980324  04-12-2022                       Shipped   \n",
       "55983    55982  408-6874319-8893136    05-26-22                       Shipped   \n",
       "3825      3824  171-0159362-0680311    04-28-22  Shipped - Delivered to Buyer   \n",
       "18671    18670  S02-8550082-4367039    04-19-22                       Shipped   \n",
       "27803    27802  403-7859148-1162729    04-14-22  Shipped - Delivered to Buyer   \n",
       "1692      1691  403-8924591-8659559    04-29-22                       Shipped   \n",
       "105069  105068  404-3764252-5755558    06-17-22                       Shipped   \n",
       "75761    75760  402-9141667-1791537  05-10-2022                     Cancelled   \n",
       "\n",
       "       Fulfilment Sales Channel ship-service-level Category Size  \\\n",
       "64944      Amazon     Amazon.in          Expedited  T-shirt  3XL   \n",
       "84361      Amazon     Amazon.in          Expedited    Shirt    S   \n",
       "30750      Amazon     Amazon.in          Expedited    Shirt   XS   \n",
       "55983      Amazon     Amazon.in          Expedited    Shirt   XL   \n",
       "3825     Merchant     Amazon.in           Standard  T-shirt    L   \n",
       "18671      Amazon    Non-Amazon           Standard  T-shirt   XL   \n",
       "27803    Merchant     Amazon.in           Standard  T-shirt    S   \n",
       "1692       Amazon     Amazon.in          Expedited  T-shirt  3XL   \n",
       "105069     Amazon     Amazon.in          Expedited  T-shirt    M   \n",
       "75761      Amazon     Amazon.in          Expedited  T-shirt  XXL   \n",
       "\n",
       "       Courier Status  ...  currency  Amount  ship-city      ship-state  \\\n",
       "64944         Shipped  ...       INR   791.0  HYDERABAD       TELANGANA   \n",
       "84361         Shipped  ...       INR   442.0       PUNE     MAHARASHTRA   \n",
       "30750         Shipped  ...       INR   329.0  BENGALURU       KARNATAKA   \n",
       "55983         Shipped  ...       INR   382.0  Ghaziabad   UTTAR PRADESH   \n",
       "3825          Shipped  ...       INR   631.0   AKBARPUR   UTTAR PRADESH   \n",
       "18671       Unshipped  ...       NaN     NaN      Surat         Gujarat   \n",
       "27803         Shipped  ...       INR  1338.0  BENGALURU       KARNATAKA   \n",
       "1692          Shipped  ...       INR   545.0    ISAGARH  MADHYA PRADESH   \n",
       "105069        Shipped  ...       INR   636.0    Chennai      TAMIL NADU   \n",
       "75761       Unshipped  ...       INR  2676.0    CHENNAI      TAMIL NADU   \n",
       "\n",
       "       ship-postal-code  ship-country    B2B  fulfilled-by New  PendingS  \n",
       "64944          500046.0            IN  False           NaN NaN       NaN  \n",
       "84361          411057.0            IN  False           NaN NaN       NaN  \n",
       "30750          560036.0            IN  False           NaN NaN       NaN  \n",
       "55983          201001.0            IN  False           NaN NaN       NaN  \n",
       "3825           224122.0            IN  False     Easy Ship NaN       NaN  \n",
       "18671          394210.0            IN  False           NaN NaN       NaN  \n",
       "27803          560084.0            IN  False     Easy Ship NaN       NaN  \n",
       "1692           473335.0            IN  False           NaN NaN       NaN  \n",
       "105069         603103.0            IN  False           NaN NaN       NaN  \n",
       "75761          600053.0            IN  False           NaN NaN       NaN  \n",
       "\n",
       "[10 rows x 21 columns]"
      ]
     },
     "execution_count": 6,
     "metadata": {},
     "output_type": "execute_result"
    }
   ],
   "source": [
    "amazon.sample(10)"
   ]
  },
  {
   "cell_type": "code",
   "execution_count": null,
   "id": "ca8048d3-a0eb-4c5b-a33c-e61b92af2582",
   "metadata": {},
   "outputs": [],
   "source": []
  },
  {
   "cell_type": "code",
   "execution_count": 7,
   "id": "da132108-8b31-490f-b3f4-fa0d7cf3c3e3",
   "metadata": {},
   "outputs": [
    {
     "data": {
      "text/plain": [
       "(128976, 21)"
      ]
     },
     "execution_count": 7,
     "metadata": {},
     "output_type": "execute_result"
    }
   ],
   "source": [
    "amazon.shape"
   ]
  },
  {
   "cell_type": "code",
   "execution_count": 8,
   "id": "39f146b6-2c8c-47e3-86d3-8a260aa32106",
   "metadata": {},
   "outputs": [
    {
     "name": "stdout",
     "output_type": "stream",
     "text": [
      "<class 'pandas.core.frame.DataFrame'>\n",
      "RangeIndex: 128976 entries, 0 to 128975\n",
      "Data columns (total 21 columns):\n",
      " #   Column              Non-Null Count   Dtype   \n",
      "---  ------              --------------   -----   \n",
      " 0   index               128976 non-null  int64   \n",
      " 1   Order ID            128976 non-null  object  \n",
      " 2   Date                128976 non-null  object  \n",
      " 3   Status              128976 non-null  object  \n",
      " 4   Fulfilment          128976 non-null  object  \n",
      " 5   Sales Channel       128976 non-null  object  \n",
      " 6   ship-service-level  128976 non-null  object  \n",
      " 7   Category            128976 non-null  object  \n",
      " 8   Size                128976 non-null  category\n",
      " 9   Courier Status      128976 non-null  object  \n",
      " 10  Qty                 128976 non-null  int64   \n",
      " 11  currency            121176 non-null  object  \n",
      " 12  Amount              121176 non-null  float64 \n",
      " 13  ship-city           128941 non-null  object  \n",
      " 14  ship-state          128941 non-null  object  \n",
      " 15  ship-postal-code    128941 non-null  float64 \n",
      " 16  ship-country        128941 non-null  object  \n",
      " 17  B2B                 128976 non-null  bool    \n",
      " 18  fulfilled-by        39263 non-null   object  \n",
      " 19  New                 0 non-null       float64 \n",
      " 20  PendingS            0 non-null       float64 \n",
      "dtypes: bool(1), category(1), float64(4), int64(2), object(13)\n",
      "memory usage: 18.9+ MB\n"
     ]
    }
   ],
   "source": [
    "amazon.info()"
   ]
  },
  {
   "cell_type": "code",
   "execution_count": 9,
   "id": "ac2f33da-e778-4e26-bbb0-a174475e02e6",
   "metadata": {},
   "outputs": [],
   "source": [
    "amazon.drop([\"New\", \"PendingS\"], axis = 1, inplace = True)"
   ]
  },
  {
   "cell_type": "code",
   "execution_count": 10,
   "id": "4cd9f587-a485-451f-a5eb-23e1a13e8819",
   "metadata": {},
   "outputs": [
    {
     "data": {
      "text/plain": [
       "Size\n",
       "M       22373\n",
       "L       21807\n",
       "XL      20549\n",
       "XXL     17806\n",
       "S       16776\n",
       "3XL     14643\n",
       "XS      11056\n",
       "Free     2251\n",
       "6XL       738\n",
       "5XL       550\n",
       "4XL       427\n",
       "Name: count, dtype: int64"
      ]
     },
     "execution_count": 10,
     "metadata": {},
     "output_type": "execute_result"
    }
   ],
   "source": [
    "amazon.Size.value_counts()"
   ]
  },
  {
   "cell_type": "code",
   "execution_count": 11,
   "id": "9659c5e8-9622-4425-9e93-b6cb5853e1da",
   "metadata": {},
   "outputs": [
    {
     "data": {
      "text/plain": [
       "Status\n",
       "Shipped                          77815\n",
       "Shipped - Delivered to Buyer     28756\n",
       "Cancelled                        18334\n",
       "Shipped - Returned to Seller      1954\n",
       "Shipped - Picked Up                973\n",
       "Pending                            658\n",
       "Pending - Waiting for Pick Up      281\n",
       "Shipped - Returning to Seller      145\n",
       "Shipped - Out for Delivery          35\n",
       "Shipped - Rejected by Buyer         11\n",
       "Shipping                             8\n",
       "Shipped - Lost in Transit            5\n",
       "Shipped - Damaged                    1\n",
       "Name: count, dtype: int64"
      ]
     },
     "execution_count": 11,
     "metadata": {},
     "output_type": "execute_result"
    }
   ],
   "source": [
    "amazon.Status.value_counts()"
   ]
  },
  {
   "cell_type": "code",
   "execution_count": 12,
   "id": "0646dda1-361c-4a2c-ba0e-1e54f8a8d5f5",
   "metadata": {},
   "outputs": [
    {
     "data": {
      "text/plain": [
       "Category\n",
       "T-shirt     50292\n",
       "Shirt       49877\n",
       "Blazzer     15500\n",
       "Trousers    10616\n",
       "Perfume      1157\n",
       "Wallet        926\n",
       "Socks         440\n",
       "Shoes         165\n",
       "Watch           3\n",
       "Name: count, dtype: int64"
      ]
     },
     "execution_count": 12,
     "metadata": {},
     "output_type": "execute_result"
    }
   ],
   "source": [
    "amazon.Category.value_counts()"
   ]
  },
  {
   "cell_type": "code",
   "execution_count": 13,
   "id": "18896236-4994-48af-b062-b56c8416fb51",
   "metadata": {},
   "outputs": [
    {
     "data": {
      "text/plain": [
       "Qty\n",
       "1     115779\n",
       "0      12810\n",
       "2        340\n",
       "3         32\n",
       "4          9\n",
       "5          2\n",
       "15         1\n",
       "9          1\n",
       "13         1\n",
       "8          1\n",
       "Name: count, dtype: int64"
      ]
     },
     "execution_count": 13,
     "metadata": {},
     "output_type": "execute_result"
    }
   ],
   "source": [
    "amazon.Qty.value_counts()"
   ]
  },
  {
   "cell_type": "code",
   "execution_count": 14,
   "id": "866a7321-438e-47bc-8086-dfb358a725e0",
   "metadata": {},
   "outputs": [
    {
     "data": {
      "text/plain": [
       "currency\n",
       "INR    121176\n",
       "Name: count, dtype: int64"
      ]
     },
     "execution_count": 14,
     "metadata": {},
     "output_type": "execute_result"
    }
   ],
   "source": [
    "amazon.currency.value_counts()"
   ]
  },
  {
   "cell_type": "code",
   "execution_count": 15,
   "id": "2cf9ab92-e983-47e8-8182-7b0285123a9f",
   "metadata": {},
   "outputs": [
    {
     "data": {
      "text/plain": [
       "fulfilled-by\n",
       "Easy Ship    39263\n",
       "Name: count, dtype: int64"
      ]
     },
     "execution_count": 15,
     "metadata": {},
     "output_type": "execute_result"
    }
   ],
   "source": [
    "amazon[\"fulfilled-by\"].value_counts()"
   ]
  },
  {
   "cell_type": "markdown",
   "id": "1c508c09-b317-4e62-84a0-3415f69980eb",
   "metadata": {},
   "source": [
    "<b>Missing Value Handling</b>"
   ]
  },
  {
   "cell_type": "code",
   "execution_count": 16,
   "id": "b809e628-9f58-4ff2-875f-f0ee18f8262b",
   "metadata": {},
   "outputs": [
    {
     "data": {
      "text/plain": [
       "index                     0\n",
       "Order ID                  0\n",
       "Date                      0\n",
       "Status                    0\n",
       "Fulfilment                0\n",
       "Sales Channel             0\n",
       "ship-service-level        0\n",
       "Category                  0\n",
       "Size                      0\n",
       "Courier Status            0\n",
       "Qty                       0\n",
       "currency               7800\n",
       "Amount                 7800\n",
       "ship-city                35\n",
       "ship-state               35\n",
       "ship-postal-code         35\n",
       "ship-country             35\n",
       "B2B                       0\n",
       "fulfilled-by          89713\n",
       "dtype: int64"
      ]
     },
     "execution_count": 16,
     "metadata": {},
     "output_type": "execute_result"
    }
   ],
   "source": [
    "#Find Total missing value by column\n",
    "amazon.isna().sum()"
   ]
  },
  {
   "cell_type": "code",
   "execution_count": 17,
   "id": "80e814e7-ac99-450a-9ca4-47e3a3e15a08",
   "metadata": {},
   "outputs": [],
   "source": [
    "#dropping Missing Value\n",
    "col_to_drop = amazon.columns[amazon.isna().sum() <= len(amazon)*0.05]\n",
    "amazon.dropna(subset = col_to_drop, inplace = True)"
   ]
  },
  {
   "cell_type": "code",
   "execution_count": 18,
   "id": "f51a6631-0665-4bf8-bde2-a276a3a21e5f",
   "metadata": {},
   "outputs": [],
   "source": [
    "amazon.dropna(subset = [\"currency\",\"Amount\"], inplace = True)"
   ]
  },
  {
   "cell_type": "code",
   "execution_count": 19,
   "id": "30e97288-5b23-4294-bb69-851198926a85",
   "metadata": {},
   "outputs": [
    {
     "data": {
      "text/plain": [
       "(121143, 19)"
      ]
     },
     "execution_count": 19,
     "metadata": {},
     "output_type": "execute_result"
    }
   ],
   "source": [
    "amazon.shape"
   ]
  },
  {
   "cell_type": "markdown",
   "id": "025f2eb0-092c-4c5c-86bd-a5849689a8ba",
   "metadata": {},
   "source": [
    "<b>Changing Category </b>"
   ]
  },
  {
   "cell_type": "code",
   "execution_count": 41,
   "id": "46e51c61-b271-4d80-9094-8a00e6bf7632",
   "metadata": {},
   "outputs": [],
   "source": [
    "amazon[\"ship-postal-code\"] = amazon[\"ship-postal-code\"].astype(int)\n",
    "amazon[\"Date\"] = pd.to_datetime(amazon[\"Date\"], \"%m%d%Y\")"
   ]
  },
  {
   "cell_type": "code",
   "execution_count": 42,
   "id": "2ad878d4-60cd-44ea-859d-e466b82cec5c",
   "metadata": {},
   "outputs": [
    {
     "data": {
      "text/plain": [
       "dtype('<M8[ns]')"
      ]
     },
     "execution_count": 42,
     "metadata": {},
     "output_type": "execute_result"
    }
   ],
   "source": [
    "amazon.Date.dtype"
   ]
  },
  {
   "cell_type": "code",
   "execution_count": 43,
   "id": "4095e516-2ec1-4d94-9fe4-346c9cae9ba3",
   "metadata": {},
   "outputs": [
    {
     "data": {
      "text/plain": [
       "dtype('int64')"
      ]
     },
     "execution_count": 43,
     "metadata": {},
     "output_type": "execute_result"
    }
   ],
   "source": [
    "amazon[\"ship-postal-code\"].dtype"
   ]
  },
  {
   "cell_type": "markdown",
   "id": "45221203-b224-418c-856a-faf49fdb40c6",
   "metadata": {},
   "source": [
    "<b>Rename Column</b>"
   ]
  },
  {
   "cell_type": "code",
   "execution_count": 44,
   "id": "23e494af-a344-4a14-a789-5df9ff7a26fc",
   "metadata": {},
   "outputs": [
    {
     "data": {
      "text/plain": [
       "Index(['index', 'Order ID', 'Date', 'Status', 'Fulfilment', 'Sales Channel',\n",
       "       'ship-service-level', 'Category', 'Size', 'Courier Status', 'Quantity',\n",
       "       'currency', 'Amount', 'ship-city', 'ship-state', 'ship-postal-code',\n",
       "       'ship-country', 'B2B', 'fulfilled-by'],\n",
       "      dtype='object')"
      ]
     },
     "execution_count": 44,
     "metadata": {},
     "output_type": "execute_result"
    }
   ],
   "source": [
    "amazon.columns"
   ]
  },
  {
   "cell_type": "code",
   "execution_count": 45,
   "id": "ae143084-1243-436c-ba93-aa8bdab8bac0",
   "metadata": {},
   "outputs": [],
   "source": [
    "amazon.rename(columns = {\"Qty\":\"Quantity\"}, inplace = True)"
   ]
  },
  {
   "cell_type": "markdown",
   "id": "a0672ffe-136b-4517-89d0-0d83b5cd6b57",
   "metadata": {},
   "source": [
    "<b>Statistics</b>"
   ]
  },
  {
   "cell_type": "code",
   "execution_count": 46,
   "id": "bb42e9bc-80f8-4b00-80da-09214320e522",
   "metadata": {},
   "outputs": [
    {
     "data": {
      "text/html": [
       "<div>\n",
       "<style scoped>\n",
       "    .dataframe tbody tr th:only-of-type {\n",
       "        vertical-align: middle;\n",
       "    }\n",
       "\n",
       "    .dataframe tbody tr th {\n",
       "        vertical-align: top;\n",
       "    }\n",
       "\n",
       "    .dataframe thead th {\n",
       "        text-align: right;\n",
       "    }\n",
       "</style>\n",
       "<table border=\"1\" class=\"dataframe\">\n",
       "  <thead>\n",
       "    <tr style=\"text-align: right;\">\n",
       "      <th></th>\n",
       "      <th>index</th>\n",
       "      <th>Date</th>\n",
       "      <th>Quantity</th>\n",
       "      <th>Amount</th>\n",
       "      <th>ship-postal-code</th>\n",
       "    </tr>\n",
       "  </thead>\n",
       "  <tbody>\n",
       "    <tr>\n",
       "      <th>count</th>\n",
       "      <td>121143.000000</td>\n",
       "      <td>121143</td>\n",
       "      <td>121143.000000</td>\n",
       "      <td>121143.000000</td>\n",
       "      <td>121143.000000</td>\n",
       "    </tr>\n",
       "    <tr>\n",
       "      <th>mean</th>\n",
       "      <td>64486.312655</td>\n",
       "      <td>2022-05-12 12:11:22.182214144</td>\n",
       "      <td>0.961252</td>\n",
       "      <td>648.576874</td>\n",
       "      <td>463623.724507</td>\n",
       "    </tr>\n",
       "    <tr>\n",
       "      <th>min</th>\n",
       "      <td>0.000000</td>\n",
       "      <td>2022-03-31 00:00:00</td>\n",
       "      <td>0.000000</td>\n",
       "      <td>0.000000</td>\n",
       "      <td>110001.000000</td>\n",
       "    </tr>\n",
       "    <tr>\n",
       "      <th>25%</th>\n",
       "      <td>32294.500000</td>\n",
       "      <td>2022-04-20 00:00:00</td>\n",
       "      <td>1.000000</td>\n",
       "      <td>449.000000</td>\n",
       "      <td>382421.000000</td>\n",
       "    </tr>\n",
       "    <tr>\n",
       "      <th>50%</th>\n",
       "      <td>64477.000000</td>\n",
       "      <td>2022-05-10 00:00:00</td>\n",
       "      <td>1.000000</td>\n",
       "      <td>605.000000</td>\n",
       "      <td>500032.000000</td>\n",
       "    </tr>\n",
       "    <tr>\n",
       "      <th>75%</th>\n",
       "      <td>96682.500000</td>\n",
       "      <td>2022-06-04 00:00:00</td>\n",
       "      <td>1.000000</td>\n",
       "      <td>788.000000</td>\n",
       "      <td>600020.000000</td>\n",
       "    </tr>\n",
       "    <tr>\n",
       "      <th>max</th>\n",
       "      <td>128974.000000</td>\n",
       "      <td>2022-06-29 00:00:00</td>\n",
       "      <td>8.000000</td>\n",
       "      <td>5584.000000</td>\n",
       "      <td>989898.000000</td>\n",
       "    </tr>\n",
       "    <tr>\n",
       "      <th>std</th>\n",
       "      <td>37220.415404</td>\n",
       "      <td>NaN</td>\n",
       "      <td>0.214276</td>\n",
       "      <td>281.196896</td>\n",
       "      <td>191301.588170</td>\n",
       "    </tr>\n",
       "  </tbody>\n",
       "</table>\n",
       "</div>"
      ],
      "text/plain": [
       "               index                           Date       Quantity  \\\n",
       "count  121143.000000                         121143  121143.000000   \n",
       "mean    64486.312655  2022-05-12 12:11:22.182214144       0.961252   \n",
       "min         0.000000            2022-03-31 00:00:00       0.000000   \n",
       "25%     32294.500000            2022-04-20 00:00:00       1.000000   \n",
       "50%     64477.000000            2022-05-10 00:00:00       1.000000   \n",
       "75%     96682.500000            2022-06-04 00:00:00       1.000000   \n",
       "max    128974.000000            2022-06-29 00:00:00       8.000000   \n",
       "std     37220.415404                            NaN       0.214276   \n",
       "\n",
       "              Amount  ship-postal-code  \n",
       "count  121143.000000     121143.000000  \n",
       "mean      648.576874     463623.724507  \n",
       "min         0.000000     110001.000000  \n",
       "25%       449.000000     382421.000000  \n",
       "50%       605.000000     500032.000000  \n",
       "75%       788.000000     600020.000000  \n",
       "max      5584.000000     989898.000000  \n",
       "std       281.196896     191301.588170  "
      ]
     },
     "execution_count": 46,
     "metadata": {},
     "output_type": "execute_result"
    }
   ],
   "source": [
    "amazon.describe()"
   ]
  },
  {
   "cell_type": "markdown",
   "id": "05318f81-628a-41a1-b93f-6fbf4cd924b5",
   "metadata": {},
   "source": [
    "<b>"
   ]
  },
  {
   "cell_type": "code",
   "execution_count": 47,
   "id": "d5a6a92c-1e2d-468b-adf5-d79ce5384dbf",
   "metadata": {},
   "outputs": [
    {
     "data": {
      "text/html": [
       "<div>\n",
       "<style scoped>\n",
       "    .dataframe tbody tr th:only-of-type {\n",
       "        vertical-align: middle;\n",
       "    }\n",
       "\n",
       "    .dataframe tbody tr th {\n",
       "        vertical-align: top;\n",
       "    }\n",
       "\n",
       "    .dataframe thead th {\n",
       "        text-align: right;\n",
       "    }\n",
       "</style>\n",
       "<table border=\"1\" class=\"dataframe\">\n",
       "  <thead>\n",
       "    <tr style=\"text-align: right;\">\n",
       "      <th></th>\n",
       "      <th>Order ID</th>\n",
       "      <th>Status</th>\n",
       "      <th>Fulfilment</th>\n",
       "      <th>Sales Channel</th>\n",
       "      <th>ship-service-level</th>\n",
       "      <th>Category</th>\n",
       "      <th>Courier Status</th>\n",
       "      <th>currency</th>\n",
       "      <th>ship-city</th>\n",
       "      <th>ship-state</th>\n",
       "      <th>ship-country</th>\n",
       "      <th>fulfilled-by</th>\n",
       "    </tr>\n",
       "  </thead>\n",
       "  <tbody>\n",
       "    <tr>\n",
       "      <th>count</th>\n",
       "      <td>121143</td>\n",
       "      <td>121143</td>\n",
       "      <td>121143</td>\n",
       "      <td>121143</td>\n",
       "      <td>121143</td>\n",
       "      <td>121143</td>\n",
       "      <td>121143</td>\n",
       "      <td>121143</td>\n",
       "      <td>121143</td>\n",
       "      <td>121143</td>\n",
       "      <td>121143</td>\n",
       "      <td>37514</td>\n",
       "    </tr>\n",
       "    <tr>\n",
       "      <th>unique</th>\n",
       "      <td>112861</td>\n",
       "      <td>12</td>\n",
       "      <td>2</td>\n",
       "      <td>1</td>\n",
       "      <td>2</td>\n",
       "      <td>9</td>\n",
       "      <td>3</td>\n",
       "      <td>1</td>\n",
       "      <td>8697</td>\n",
       "      <td>68</td>\n",
       "      <td>1</td>\n",
       "      <td>1</td>\n",
       "    </tr>\n",
       "    <tr>\n",
       "      <th>top</th>\n",
       "      <td>171-5057375-2831560</td>\n",
       "      <td>Shipped</td>\n",
       "      <td>Amazon</td>\n",
       "      <td>Amazon.in</td>\n",
       "      <td>Expedited</td>\n",
       "      <td>T-shirt</td>\n",
       "      <td>Shipped</td>\n",
       "      <td>INR</td>\n",
       "      <td>BENGALURU</td>\n",
       "      <td>MAHARASHTRA</td>\n",
       "      <td>IN</td>\n",
       "      <td>Easy Ship</td>\n",
       "    </tr>\n",
       "    <tr>\n",
       "      <th>freq</th>\n",
       "      <td>12</td>\n",
       "      <td>77589</td>\n",
       "      <td>83629</td>\n",
       "      <td>121143</td>\n",
       "      <td>82713</td>\n",
       "      <td>47038</td>\n",
       "      <td>109458</td>\n",
       "      <td>121143</td>\n",
       "      <td>10675</td>\n",
       "      <td>21084</td>\n",
       "      <td>121143</td>\n",
       "      <td>37514</td>\n",
       "    </tr>\n",
       "  </tbody>\n",
       "</table>\n",
       "</div>"
      ],
      "text/plain": [
       "                   Order ID   Status Fulfilment Sales Channel  \\\n",
       "count                121143   121143     121143        121143   \n",
       "unique               112861       12          2             1   \n",
       "top     171-5057375-2831560  Shipped     Amazon     Amazon.in   \n",
       "freq                     12    77589      83629        121143   \n",
       "\n",
       "       ship-service-level Category Courier Status currency  ship-city  \\\n",
       "count              121143   121143         121143   121143     121143   \n",
       "unique                  2        9              3        1       8697   \n",
       "top             Expedited  T-shirt        Shipped      INR  BENGALURU   \n",
       "freq                82713    47038         109458   121143      10675   \n",
       "\n",
       "         ship-state ship-country fulfilled-by  \n",
       "count        121143       121143        37514  \n",
       "unique           68            1            1  \n",
       "top     MAHARASHTRA           IN    Easy Ship  \n",
       "freq          21084       121143        37514  "
      ]
     },
     "execution_count": 47,
     "metadata": {},
     "output_type": "execute_result"
    }
   ],
   "source": [
    "amazon.describe(include = \"object\")"
   ]
  },
  {
   "cell_type": "markdown",
   "id": "e4738634-b562-473e-a359-e3be66391149",
   "metadata": {},
   "source": [
    "<b><h3>Explanatory Data Analysis</h3></b>"
   ]
  },
  {
   "cell_type": "code",
   "execution_count": 48,
   "id": "ac37337f-9b60-48a3-be38-68182f6cb622",
   "metadata": {},
   "outputs": [
    {
     "data": {
      "text/plain": [
       "Index(['index', 'Order ID', 'Date', 'Status', 'Fulfilment', 'Sales Channel',\n",
       "       'ship-service-level', 'Category', 'Size', 'Courier Status', 'Quantity',\n",
       "       'currency', 'Amount', 'ship-city', 'ship-state', 'ship-postal-code',\n",
       "       'ship-country', 'B2B', 'fulfilled-by'],\n",
       "      dtype='object')"
      ]
     },
     "execution_count": 48,
     "metadata": {},
     "output_type": "execute_result"
    }
   ],
   "source": [
    "amazon.columns"
   ]
  },
  {
   "cell_type": "markdown",
   "id": "d927865c-5097-46f1-9ade-dc86c0224590",
   "metadata": {},
   "source": [
    "<b>Size </b>"
   ]
  },
  {
   "cell_type": "code",
   "execution_count": 49,
   "id": "20e33fc7-72bd-4b56-a240-d391d9d1ff67",
   "metadata": {},
   "outputs": [],
   "source": [
    "#Set size category by small to large\n",
    "amazon[\"Size\"] = amazon.Size.cat.set_categories(new_categories = ['S','M','L','XS','XL','XXL','3XL', '4XL', '5XL', '6XL','Free'],\\\n",
    "                                                ordered = True )"
   ]
  },
  {
   "cell_type": "code",
   "execution_count": 65,
   "id": "aca2f462-e8fa-4fda-a7ef-07915be76e5c",
   "metadata": {},
   "outputs": [
    {
     "data": {
      "image/png": "[encoded data removed]",
      "text/plain": [
       "<Figure size 640x480 with 1 Axes>"
      ]
     },
     "metadata": {},
     "output_type": "display_data"
    }
   ],
   "source": [
    "ax = sns.countplot(x = \"Size\", data = amazon)"
   ]
  },
  {
   "cell_type": "code",
   "execution_count": 51,
   "id": "3ea84afe-8ddf-42a0-8419-36f458dd88e6",
   "metadata": {},
   "outputs": [
    {
     "data": {
      "text/plain": [
       "Text(0.5, 1.03, 'How much ordered in each size')"
      ]
     },
     "execution_count": 51,
     "metadata": {},
     "output_type": "execute_result"
    },
    {
     "data": {
      "image/png": "[encoded data removed]",
      "text/plain": [
       "<Figure size 640x480 with 1 Axes>"
      ]
     },
     "metadata": {},
     "output_type": "display_data"
    }
   ],
   "source": [
    "sns.set_style(\"whitegrid\")\n",
    "ax = sns.countplot(x = \"Size\", data = amazon)\n",
    "for bars in ax.containers:\n",
    "    ax.bar_label(bars)\n",
    "ax.set_title(\"How much ordered in each size\", y= 1.03)"
   ]
  },
  {
   "cell_type": "markdown",
   "id": "da140eaf-9f36-4b22-a0ac-df58f9bb540e",
   "metadata": {},
   "source": [
    "<b>Note: From the above graph most of the people buy \"M\" size ... </b><br>\n",
    "Most popular 5 size is M, L, XL, S, XXL"
   ]
  },
  {
   "cell_type": "markdown",
   "id": "6ee1ee82-938e-4e08-a7d6-5091f787823f",
   "metadata": {},
   "source": [
    "<b> Group By method</b>"
   ]
  },
  {
   "cell_type": "code",
   "execution_count": 52,
   "id": "4b6935c3-ce00-4262-8f7b-2125f23055ea",
   "metadata": {},
   "outputs": [
    {
     "data": {
      "text/html": [
       "<div>\n",
       "<style scoped>\n",
       "    .dataframe tbody tr th:only-of-type {\n",
       "        vertical-align: middle;\n",
       "    }\n",
       "\n",
       "    .dataframe tbody tr th {\n",
       "        vertical-align: top;\n",
       "    }\n",
       "\n",
       "    .dataframe thead th {\n",
       "        text-align: right;\n",
       "    }\n",
       "</style>\n",
       "<table border=\"1\" class=\"dataframe\">\n",
       "  <thead>\n",
       "    <tr style=\"text-align: right;\">\n",
       "      <th></th>\n",
       "      <th>Size</th>\n",
       "      <th>Quantity</th>\n",
       "    </tr>\n",
       "  </thead>\n",
       "  <tbody>\n",
       "    <tr>\n",
       "      <th>1</th>\n",
       "      <td>M</td>\n",
       "      <td>20113</td>\n",
       "    </tr>\n",
       "    <tr>\n",
       "      <th>2</th>\n",
       "      <td>L</td>\n",
       "      <td>19667</td>\n",
       "    </tr>\n",
       "    <tr>\n",
       "      <th>4</th>\n",
       "      <td>XL</td>\n",
       "      <td>18611</td>\n",
       "    </tr>\n",
       "    <tr>\n",
       "      <th>5</th>\n",
       "      <td>XXL</td>\n",
       "      <td>16217</td>\n",
       "    </tr>\n",
       "    <tr>\n",
       "      <th>0</th>\n",
       "      <td>S</td>\n",
       "      <td>15019</td>\n",
       "    </tr>\n",
       "    <tr>\n",
       "      <th>6</th>\n",
       "      <td>3XL</td>\n",
       "      <td>13341</td>\n",
       "    </tr>\n",
       "    <tr>\n",
       "      <th>3</th>\n",
       "      <td>XS</td>\n",
       "      <td>9835</td>\n",
       "    </tr>\n",
       "    <tr>\n",
       "      <th>10</th>\n",
       "      <td>Free</td>\n",
       "      <td>2051</td>\n",
       "    </tr>\n",
       "    <tr>\n",
       "      <th>9</th>\n",
       "      <td>6XL</td>\n",
       "      <td>687</td>\n",
       "    </tr>\n",
       "    <tr>\n",
       "      <th>8</th>\n",
       "      <td>5XL</td>\n",
       "      <td>512</td>\n",
       "    </tr>\n",
       "    <tr>\n",
       "      <th>7</th>\n",
       "      <td>4XL</td>\n",
       "      <td>396</td>\n",
       "    </tr>\n",
       "  </tbody>\n",
       "</table>\n",
       "</div>"
      ],
      "text/plain": [
       "    Size  Quantity\n",
       "1      M     20113\n",
       "2      L     19667\n",
       "4     XL     18611\n",
       "5    XXL     16217\n",
       "0      S     15019\n",
       "6    3XL     13341\n",
       "3     XS      9835\n",
       "10  Free      2051\n",
       "9    6XL       687\n",
       "8    5XL       512\n",
       "7    4XL       396"
      ]
     },
     "execution_count": 52,
     "metadata": {},
     "output_type": "execute_result"
    }
   ],
   "source": [
    "amazon.groupby([\"Size\"], as_index=False, observed=False)[[\"Quantity\"]].sum().sort_values(by=\"Quantity\", ascending=False)"
   ]
  },
  {
   "cell_type": "code",
   "execution_count": 53,
   "id": "18138798-5766-4b2e-afaa-a0610614a0ea",
   "metadata": {},
   "outputs": [
    {
     "data": {
      "text/plain": [
       "Text(0.5, 1.03, 'Most Sales Size')"
      ]
     },
     "execution_count": 53,
     "metadata": {},
     "output_type": "execute_result"
    },
    {
     "data": {
      "image/png": "[encoded data removed]",
      "text/plain": [
       "<Figure size 640x480 with 1 Axes>"
      ]
     },
     "metadata": {},
     "output_type": "display_data"
    }
   ],
   "source": [
    "SQ = amazon.groupby([\"Size\"], as_index=False, observed=False)[[\"Quantity\"]].sum().sort_values(by=\"Quantity\", ascending=False)\n",
    "\n",
    "ax1 = sns.barplot(x = \"Size\", y = \"Quantity\", data = SQ )\n",
    "ax1.set_title(\"Most Sales Size\", y= 1.03)"
   ]
  },
  {
   "cell_type": "markdown",
   "id": "b0407d9f-fd67-4dcc-aa2c-9755486e46ac",
   "metadata": {},
   "source": [
    "<b>Note: From the above graph we see that most of the Quantity buy M size in the sales. Than L size and XL size and so on.  </b>"
   ]
  },
  {
   "cell_type": "code",
   "execution_count": 54,
   "id": "ec8f8210-7ce9-419f-bf89-1a4d03901ab2",
   "metadata": {},
   "outputs": [
    {
     "data": {
      "text/plain": [
       "Index(['index', 'Order ID', 'Date', 'Status', 'Fulfilment', 'Sales Channel',\n",
       "       'ship-service-level', 'Category', 'Size', 'Courier Status', 'Quantity',\n",
       "       'currency', 'Amount', 'ship-city', 'ship-state', 'ship-postal-code',\n",
       "       'ship-country', 'B2B', 'fulfilled-by'],\n",
       "      dtype='object')"
      ]
     },
     "execution_count": 54,
     "metadata": {},
     "output_type": "execute_result"
    }
   ],
   "source": [
    "amazon.columns"
   ]
  },
  {
   "cell_type": "markdown",
   "id": "6a473246-7e55-4ae6-a077-f4d6abe1aa73",
   "metadata": {},
   "source": [
    "<b>Courier Status</b>"
   ]
  },
  {
   "cell_type": "code",
   "execution_count": 66,
   "id": "6fbf5564-0b3a-4581-a6cf-197dd5a63dc5",
   "metadata": {},
   "outputs": [
    {
     "data": {
      "image/png": "[encoded data removed]",
      "text/plain": [
       "<Figure size 1000x600 with 1 Axes>"
      ]
     },
     "metadata": {},
     "output_type": "display_data"
    }
   ],
   "source": [
    "plt.figure(figsize = (10,6))\n",
    "ax3 = sns.countplot(x = \"Courier Status\", data = amazon, hue = \"Status\")"
   ]
  },
  {
   "cell_type": "markdown",
   "id": "548d4803-e8f7-4f37-bb05-b7b897e3f8b3",
   "metadata": {},
   "source": [
    "<b>Note : From the above graph we see that mejority courier delivered by shipped. </b>"
   ]
  },
  {
   "cell_type": "code",
   "execution_count": 56,
   "id": "4c0a7ffd-4b84-4190-b4ef-c93bae9641fa",
   "metadata": {},
   "outputs": [
    {
     "data": {
      "image/png": "[encoded data removed]",
      "text/plain": [
       "<Figure size 640x480 with 1 Axes>"
      ]
     },
     "metadata": {},
     "output_type": "display_data"
    }
   ],
   "source": [
    "ax2 = sns.countplot(x = \"Courier Status\", data = amazon)\n",
    "for bar in ax2.containers:\n",
    "    ax2.bar_label(bar)"
   ]
  },
  {
   "cell_type": "markdown",
   "id": "a872fcfb-ec91-41ce-8236-27c89a709362",
   "metadata": {},
   "source": [
    "<b>Note : From the above graph we see that mejority courier delivered by shipped. </b>"
   ]
  },
  {
   "cell_type": "markdown",
   "id": "e91649d6-3e24-49b9-847c-baf26e052c61",
   "metadata": {},
   "source": [
    "<b>Category</b>"
   ]
  },
  {
   "cell_type": "code",
   "execution_count": 57,
   "id": "ecdb10e1-b26e-4bdf-9335-d5bca2f25bdf",
   "metadata": {},
   "outputs": [
    {
     "data": {
      "text/plain": [
       "array(['T-shirt', 'Shirt', 'Blazzer', 'Trousers', 'Perfume', 'Socks',\n",
       "       'Shoes', 'Wallet', 'Watch'], dtype=object)"
      ]
     },
     "execution_count": 57,
     "metadata": {},
     "output_type": "execute_result"
    }
   ],
   "source": [
    "amazon.Category.unique()"
   ]
  },
  {
   "cell_type": "code",
   "execution_count": 58,
   "id": "4a3db997-a1c7-4899-80d8-6f3ac1e9b1cf",
   "metadata": {},
   "outputs": [
    {
     "data": {
      "text/plain": [
       "Text(0.5, 1.03, 'Most selling Category')"
      ]
     },
     "execution_count": 58,
     "metadata": {},
     "output_type": "execute_result"
    },
    {
     "data": {
      "image/png": "[encoded data removed]",
      "text/plain": [
       "<Figure size 640x480 with 1 Axes>"
      ]
     },
     "metadata": {},
     "output_type": "display_data"
    }
   ],
   "source": [
    "ax4 = sns.histplot(x = \"Category\", bins = 30, data = amazon)\n",
    "plt.xticks(rotation = 90)\n",
    "ax4.set_title(\"Most selling Category\", y = 1.03)"
   ]
  },
  {
   "cell_type": "markdown",
   "id": "7a962c6a-4f51-45cc-a812-4800698e450e",
   "metadata": {},
   "source": [
    "<b> Note : From the above graph we see that most selling products are T-shirt and Shirt.</b>"
   ]
  },
  {
   "cell_type": "markdown",
   "id": "a3592b6a-1578-4ce1-9bd4-7460eb1798a6",
   "metadata": {},
   "source": [
    "<b>B2B</b>"
   ]
  },
  {
   "cell_type": "code",
   "execution_count": 59,
   "id": "49bad6e0-9c20-47e9-9257-72591339dc2a",
   "metadata": {},
   "outputs": [
    {
     "data": {
      "image/png": "[encoded data removed]",
      "text/plain": [
       "<Figure size 640x480 with 1 Axes>"
      ]
     },
     "metadata": {},
     "output_type": "display_data"
    }
   ],
   "source": [
    "b2b_counts = amazon.B2B.value_counts()\n",
    "\n",
    "plt.pie(b2b_counts, labels = b2b_counts.index, autopct=\"%1.2f%%\")\n",
    "plt.show()"
   ]
  },
  {
   "cell_type": "markdown",
   "id": "708c80f3-7d91-4949-b856-f03f88f97d3e",
   "metadata": {},
   "source": [
    "<b>Note : From the above pic chart we see that maximum i.e. about 99.3% buyers are retailer and 0.70% are B2B buyers.</b>"
   ]
  },
  {
   "cell_type": "code",
   "execution_count": 60,
   "id": "ce810c99-3560-4cb6-962a-ea23cc949328",
   "metadata": {},
   "outputs": [
    {
     "data": {
      "text/plain": [
       "([0, 1, 2, 3, 4, 5, 6, 7, 8],\n",
       " [Text(0, 0, 'T-shirt'),\n",
       "  Text(1, 0, 'Shirt'),\n",
       "  Text(2, 0, 'Blazzer'),\n",
       "  Text(3, 0, 'Trousers'),\n",
       "  Text(4, 0, 'Perfume'),\n",
       "  Text(5, 0, 'Socks'),\n",
       "  Text(6, 0, 'Shoes'),\n",
       "  Text(7, 0, 'Wallet'),\n",
       "  Text(8, 0, 'Watch')])"
      ]
     },
     "execution_count": 60,
     "metadata": {},
     "output_type": "execute_result"
    },
    {
     "data": {
      "image/png": "[encoded data removed]",
      "text/plain": [
       "<Figure size 640x480 with 1 Axes>"
      ]
     },
     "metadata": {},
     "output_type": "display_data"
    }
   ],
   "source": [
    "plt.scatter(amazon[\"Category\"], amazon[\"Size\"])\n",
    "plt.xlabel(\"Size\")\n",
    "plt.ylabel(\"Category\")\n",
    "plt.title(\"Scatter Plot\")\n",
    "plt.xticks(rotation = 45)"
   ]
  },
  {
   "cell_type": "code",
   "execution_count": 61,
   "id": "44681600-72f4-4a87-839f-c2dce5b200d4",
   "metadata": {},
   "outputs": [
    {
     "data": {
      "image/png": "[encoded data removed]",
      "text/plain": [
       "<Figure size 1600x800 with 1 Axes>"
      ]
     },
     "metadata": {},
     "output_type": "display_data"
    }
   ],
   "source": [
    "plt.figure(figsize = (16,8))\n",
    "count_shipstate = amazon[\"ship-state\"].value_counts().sort_values(ascending = False).head(10)\n",
    "sns.countplot(x = \"ship-state\", data = amazon[amazon[\"ship-state\"].isin(count_shipstate.index)])\n",
    "plt.title(\"Distribution State\")\n",
    "plt.show()"
   ]
  },
  {
   "cell_type": "markdown",
   "id": "bd43d1de-c43c-45db-b0e7-612f31529a16",
   "metadata": {},
   "source": [
    "<b><h3>Conclution:</h3></b><br>\n",
    "<b>The data analysis reveals that the business has a significant customer base in Maharashtra state, mainly serves retailers, fulfills orders through Amazon, experiences high demand for T-shirts, and sees M-Size as the preferred choice among buyers.</b>"
   ]
  },
  {
   "cell_type": "code",
   "execution_count": 63,
   "id": "7b3a5f5d-2284-42d6-b445-e89c38fe6bfb",
   "metadata": {},
   "outputs": [],
   "source": [
    "amazon.to_csv(\"amazon.csv\")"
   ]
  },
  {
   "cell_type": "code",
   "execution_count": null,
   "id": "c15b5a7a-d593-40ab-835b-064d94773234",
   "metadata": {},
   "outputs": [],
   "source": []
  },
  {
   "cell_type": "code",
   "execution_count": null,
   "id": "1e3828d1-16d1-4558-a7e4-27994cdbecd3",
   "metadata": {},
   "outputs": [],
   "source": []
  }
 ],
 "metadata": {
  "kernelspec": {
   "display_name": "Python 3 (ipykernel)",
   "language": "python",
   "name": "python3"
  },
  "language_info": {
   "codemirror_mode": {
    "name": "ipython",
    "version": 3
   },
   "file_extension": ".py",
   "mimetype": "text/x-python",
   "name": "python",
   "nbconvert_exporter": "python",
   "pygments_lexer": "ipython3",
   "version": "3.11.6"
  }
 },
 "nbformat": 4,
 "nbformat_minor": 5
}
